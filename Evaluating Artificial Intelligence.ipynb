{
 "cells": [
  {
   "cell_type": "markdown",
   "id": "b5280aee",
   "metadata": {},
   "source": [
    "### Modelling and Evaluation - Artificial Intelligence regression and classification performance metrics\n",
    "\n",
    "After we have defined, optimised and validated the AI cores, the last step in the modelling and evaluation phase is evaluating the performance of the built models. As we have discussed there are numerous AI genres and methodologies but all, most of the time, will try to solve two very common problems. The first one is to predict a future value of a target variable that belongs in the continuous space Z calles regression and the later, a categorical future value amongst a collection of possible ones called classification. There are indeed, more complex problems than those two, however again, most of the times, can be seggregated into multiple sub-problems that fall into the previous two categories. Furthermore a significant part of these use cases fall under the supervised learning AI context.\n",
    "\n",
    "Regardless of the category, we will usually be designing and training a few AI cores before we decide on the best one to push into production. We therefore need the quantitative means that will enable to decide which core is the best to use. The evaluation metrics available are different depending on the genre of the AI problem at hand and in this article we will be discussing available regression and classification AI evaluation metrics.  "
   ]
  },
  {
   "cell_type": "markdown",
   "id": "9c797d5d",
   "metadata": {},
   "source": [
    "### Defining Regression Metrics\n",
    "Regression is the process of trying to build a model that can unravel the relation between the value of a variable called the dependent variable with one or more independent variables given their corresponding values in an effort to forecast the former one. There exist numerous AI cores that are able to solve regression problems ranging from the simpler linear, ridge or lasso regression to Random forests, Neural Networks and Deep Neural Networks.\n",
    "\n",
    "Regardless of the core used, there are several regression evaluation metrics available in the bibliography and depending on the use case the most frequently used ones are:\n",
    "\n",
    "- Mean Absolute Error\n",
    "- Mean Absolute Percentage Error\n",
    "- Mean Square Error\n",
    "- Mean Log Square Error\n",
    "- R Squared"
   ]
  },
  {
   "cell_type": "markdown",
   "id": "c583ec26",
   "metadata": {},
   "source": [
    "### Evaluating regressions\n",
    "Most of the metrics mentioned in this Blueprint are well implemented in several software packages. For the purposes of the Blueprint we will be using the builtin metrics module from scikit-learn. Let's start by importing all the available metrics in scikit-learn:"
   ]
  },
  {
   "cell_type": "code",
   "execution_count": 204,
   "id": "c76a7c6d",
   "metadata": {},
   "outputs": [],
   "source": [
    "import matplotlib.pyplot as plt\n",
    "\n",
    "from sklearn.metrics import mean_absolute_error, mean_absolute_percentage_error, mean_squared_error, mean_squared_log_error, r2_score\n",
    "from sklearn.datasets import make_classification, make_regression\n",
    "from sklearn.metrics import confusion_matrix, ConfusionMatrixDisplay, roc_curve, accuracy_score, confusion_matrix, classification_report, auc\n",
    "from sklearn.linear_model import LogisticRegression, LinearRegression, Ridge\n",
    "from sklearn.model_selection import train_test_split\n",
    "from sklearn.svm import SVC"
   ]
  },
  {
   "cell_type": "markdown",
   "id": "5d7b6c03",
   "metadata": {},
   "source": [
    "Let's now start by generating a regression scenario using make_regression(). The function is can generate interesting use cases through its various parameters available. "
   ]
  },
  {
   "cell_type": "code",
   "execution_count": 201,
   "id": "8ea4ca7d",
   "metadata": {},
   "outputs": [],
   "source": [
    "x, y = make_regression(n_samples=1000, n_features=5, n_informative = 3, n_targets=1)\n",
    "x_train, x_test, y_train, y_test = train_test_split(x, y, random_state=0)\n",
    "\n",
    "rgr = LinearRegression()\n",
    "rgr.fit(x_train, y_train)\n",
    "y_hat = rgr.predict(x_test)"
   ]
  },
  {
   "cell_type": "markdown",
   "id": "380e61e1",
   "metadata": {},
   "source": [
    "### Mean Absolute Error\n",
    "The MAE is a very simple metric that calculates the difference between the actual and predicted values, mathematicaly it is defined as:\n",
    "\n",
    "MAE will report performance in the same unit as the dependent variable and it is resilient to outliers due to the nature of the calculation.\n",
    "\n",
    "\n",
    "### Mean Absolute Percentage Error\n",
    "MAPE is the ratio of the sum of differences between actual and predicted values to actual values averaged on the dataset points. Mathematicaly it can be written as:\n",
    "\n",
    "MAPE has some significant drawbacks with a major one being that it cannot be used with actual zero values.\n",
    "\n",
    "### Mean Square Error\n",
    "MSE is again a simple metric and its difference with MAE is that it sqaures the residuals. Its advantage is that it is a diferentaible function and hence can also be used for optimisation purposes. MSE is not resilient to outliers because of the squaring process.\n",
    "\n",
    "### Mean Log Square Error\n",
    "MSLE is a measure of the ratio of the difference of the actual versus the predicted values. The introduction of the logarithm makes the metric somewhat agnostic to scale as it treats small differences in small values equally as large difference in large values. However the metric introduces a calculation asymetry by penalising underestimates more than overestimates. The equation expressing MSLE is:\n",
    "\n",
    "\n",
    "### R-Squared\n",
    "R-squared is one of the most used regression evaluation metrics as it reveals how much of hte variance of the dataset is explained from the model. R2 is also known as the coefficient of determination.R2 is also very easily explained as it is essentially a percentage. MAthematicaly it is expressed as:\n"
   ]
  },
  {
   "cell_type": "markdown",
   "id": "ee5198f6",
   "metadata": {},
   "source": [
    "Let's write a small function that will accept the y_actual and y_hat values and report back with all calculated metrics so that we can use with the two different models:"
   ]
  },
  {
   "cell_type": "code",
   "execution_count": 209,
   "id": "f32a0239",
   "metadata": {},
   "outputs": [],
   "source": [
    "def regression_performance_report(y_actual, y_hat):\n",
    "    mae = mean_absolute_error(y_actual, y_hat)\n",
    "    mape = mean_absolute_percentage_error(y_actual, y_hat)\n",
    "    mse = mean_squared_error(y_actual, y_hat)\n",
    "    r2 = r2_score(y_actual, y_hat)\n",
    "    \n",
    "    print(f'Model Performance report mae:{mae}, mape:{mape}, mse:{mse}, msle:{msle}, r2:{r2}')"
   ]
  },
  {
   "cell_type": "code",
   "execution_count": 210,
   "id": "216957bf",
   "metadata": {},
   "outputs": [
    {
     "name": "stdout",
     "output_type": "stream",
     "text": [
      "Model Performance report mae:0.09838053245808906, mape:0.0014697925076210762, mse:0.015072468686679222, msle:0.03973012298459379, r2:0.9999982932951016\n"
     ]
    }
   ],
   "source": [
    "regression_performance_report(y_test, y_hat)"
   ]
  },
  {
   "cell_type": "code",
   "execution_count": 211,
   "id": "e0d2be4c",
   "metadata": {},
   "outputs": [
    {
     "name": "stdout",
     "output_type": "stream",
     "text": [
      "Model Performance report mae:0.09838053245808906, mape:0.0014697925076210762, mse:0.015072468686679222, msle:0.03973012298459379, r2:0.9999982932951016\n"
     ]
    }
   ],
   "source": [
    "rgr = Ridge()\n",
    "rgr.fit(x_train, y_train)\n",
    "y_hat = rgr.predict(x_test)\n",
    "\n",
    "regression_performance_report(y_test, y_hat)"
   ]
  },
  {
   "cell_type": "markdown",
   "id": "4cb61a61",
   "metadata": {},
   "source": [
    "### Defining Classification Metrics\n",
    "Classification is the process of identifying and categorising items or concepts into predetermined categories. There are many AI cores that can solve classification tasks. Most classification processes fall into the supervised learning space, whether that might be binary classification or multi-class classification problems. Amongst others, classification  techniques that can be utilised include logistic regression, Naive Bayes, kernel-SVMs, classification forests and Artificial Neural Networks.\n",
    "\n",
    "The most popular classification metrics that can be used to evaluate such AI cores are:\n",
    "- Accuracy\n",
    "- Confusion matrix\n",
    "- AUC - ROC\n",
    "- F1 score\n",
    "- Precision - Recall curves\n"
   ]
  },
  {
   "attachments": {},
   "cell_type": "markdown",
   "id": "b0e98078",
   "metadata": {},
   "source": [
    "### Simulating classification  scenarios\n",
    "We will be using the make_classification() function from sklearn to generate a hypothetical classification scenario. The function is quite powerful and can generate interesting use cases through parameterisation. We will generate a binary classification scenario of five existing features with only three of them having strong predictive value and no imbalancing."
   ]
  },
  {
   "cell_type": "code",
   "execution_count": 184,
   "id": "113d2199",
   "metadata": {},
   "outputs": [],
   "source": [
    "x, y = make_classification(n_samples=1000, n_features=5, n_informative = 3, n_classes=2, weights=None)\n",
    "x_train, x_test, y_train, y_test = train_test_split(x, y, random_state=0)\n",
    "\n",
    "clf = LogisticRegression()\n",
    "clf.fit(x_train, y_train)\n",
    "y_pred = clf.predict(x_test)"
   ]
  },
  {
   "cell_type": "markdown",
   "id": "6490fd8e",
   "metadata": {},
   "source": [
    "### Accuracy score and other statistical metrics\n",
    "A very simple metric for classification performance evaluation, it is essentialy the fraction of correct predictions and it can be computed very easily using the accuracy_score() function. Let's use a Support Vector Classifier on the generated scenario:"
   ]
  },
  {
   "cell_type": "code",
   "execution_count": 185,
   "id": "c8bb2c12",
   "metadata": {},
   "outputs": [
    {
     "name": "stdout",
     "output_type": "stream",
     "text": [
      "Model accuracy:0.892\n"
     ]
    }
   ],
   "source": [
    "print(f'Model accuracy:{accuracy_score(y_test, y_pred)}')"
   ]
  },
  {
   "cell_type": "markdown",
   "id": "8cc3e90d",
   "metadata": {},
   "source": [
    "A very convenient function that can give a lot of insight out-of-the-box is the classification_report which will provide us with some of the most important classification metrics:"
   ]
  },
  {
   "cell_type": "code",
   "execution_count": 186,
   "id": "910ba201",
   "metadata": {},
   "outputs": [
    {
     "name": "stdout",
     "output_type": "stream",
     "text": [
      "              precision    recall  f1-score   support\n",
      "\n",
      "     class 0       0.89      0.90      0.90       130\n",
      "     class 1       0.89      0.88      0.89       120\n",
      "\n",
      "    accuracy                           0.89       250\n",
      "   macro avg       0.89      0.89      0.89       250\n",
      "weighted avg       0.89      0.89      0.89       250\n",
      "\n"
     ]
    }
   ],
   "source": [
    "target_names = ['class 0', 'class 1']\n",
    "print(classification_report(y_test, y_pred, target_names=target_names))"
   ]
  },
  {
   "cell_type": "markdown",
   "id": "c7353569",
   "metadata": {},
   "source": [
    "### Confusion matrix\n",
    "\n",
    "The confusion matrix is a very important tool as it allows us to calculate several performance metrics of the model. The main components of the confusion matrix are:\n",
    "- True Positives (TP): The records correctly classified as possitives\n",
    "- True Negatives (TN): The records correctly classified as negatives\n",
    "- False Positives (FP): The records falsely classified as possitives\n",
    "- False Negatives (FN): The records falsely classified as negatives\n",
    "\n",
    "A confusion matric is mostly used in supervised classification problems but it can also be used in unsupervised ones where it is called a matching matrix. Bellow we can see the structure of the confusion matrix:\n",
    "\n",
    "Now let's calculate some of the most frequently used confusion matrix metrics:\n",
    "\n",
    "- Sensitivity or Recall: TP/(TP + FN)\n",
    "- Specificity: TN/(TN + FP)\n",
    "- Precision: TP/(TP + FP)\n",
    "- Negative Predictive Value: TN/(TN + FN)\n",
    "- False Positive Rate: FP/(TN + FP)\n",
    "- Prevalence: P/(P + N)\n",
    "- Accuracy: (TP + TN)/(P + N)\n",
    "- F1 Score: 2TP/(2TP + FP + FN)\n",
    "\n",
    "Different applications will focus more on specific metricas rather than all of them depending on what is perceived as more critical by the bussiness. The confusion matrix can be easily calculated through sklearn.metrics. Furthermore there is a convenient function to use to plot the matrix ConfusionMatrixDisplay().\n",
    "\n"
   ]
  },
  {
   "cell_type": "code",
   "execution_count": 187,
   "id": "a8a5886f",
   "metadata": {},
   "outputs": [
    {
     "data": {
      "image/png": "[encoded data removed]",
      "text/plain": [
       "<Figure size 432x288 with 2 Axes>"
      ]
     },
     "metadata": {
      "needs_background": "light"
     },
     "output_type": "display_data"
    }
   ],
   "source": [
    "cm = confusion_matrix(y_test, y_pred, labels=clf.classes_)\n",
    "disp = ConfusionMatrixDisplay(confusion_matrix=cm, display_labels=clf.classes_)\n",
    "disp.plot()\n",
    "plt.show()"
   ]
  },
  {
   "cell_type": "markdown",
   "id": "1bb90482",
   "metadata": {},
   "source": [
    "### Area Under Curve - Receiver Operating Characteristic\n",
    "Often times the final quantitative metrics that are calculated from the confusion matrix are not enough allow us to evaluate the model's performance. When we need to evaluate the model under different TP and FP threshold settings the Area Under Curve/ Receiver Operating Characteristic curve is the tool to use. The AUCROC is a probability plot and to form it we calculate:\n",
    "- Sensitivity\n",
    "- Specificity\n",
    "- False Positive Rate (FPR): 1 - Specificity\n",
    "\n",
    "Let us interpret the AUCROC plot, we will start from an ideally separable data space forming a binary classification problem. In such a case the models are able to perfectly separate the two classes and therefore the ROC curve has the form of the following graph with an AUC equal to 1.\n",
    "\n",
    "\n",
    "In the case of a not clearly separable space, the models will exhibit some accuracy which after optimisations need to at least beat a random model:\n",
    "\n",
    "\n",
    "The worst possible scenario is a non-separable data space where the models are performing as if a random decision was made:\n",
    "\n",
    "\n",
    "Any AUC less than 0.5 usually denotes some kind of systemic issue in the design and implementation process of the model.\n"
   ]
  },
  {
   "cell_type": "code",
   "execution_count": 194,
   "id": "0ecd88ec",
   "metadata": {},
   "outputs": [],
   "source": [
    "n_classes = 2\n",
    "y_score = clf.fit(x_train, y_train).predict_proba(x_test)[::,1]\n",
    "fpr, tpr, _ = roc_curve(y_test, y_score)\n",
    "roc_auc = auc(fpr, tpr)"
   ]
  },
  {
   "cell_type": "code",
   "execution_count": 195,
   "id": "841ba7a8",
   "metadata": {},
   "outputs": [
    {
     "data": {
      "image/png": "[encoded data removed]",
      "text/plain": [
       "<Figure size 432x288 with 1 Axes>"
      ]
     },
     "metadata": {
      "needs_background": "light"
     },
     "output_type": "display_data"
    }
   ],
   "source": [
    "plt.figure()\n",
    "lw = 2\n",
    "plt.plot(\n",
    "    fpr,\n",
    "    tpr,\n",
    "    color=\"darkorange\",\n",
    "    lw=lw,\n",
    "    label=\"ROC curve (AUC = %0.2f)\" % roc_auc,\n",
    ")\n",
    "plt.plot([0, 1], [0, 1], color=\"navy\", lw=lw, linestyle=\"--\")\n",
    "plt.xlabel(\"FPR\")\n",
    "plt.ylabel(\"TPR\")\n",
    "plt.title(\"ROC Curve\")\n",
    "plt.legend(loc=\"lower right\")\n",
    "plt.show()"
   ]
  },
  {
   "cell_type": "markdown",
   "id": "1a73a570",
   "metadata": {},
   "source": [
    "### Precision - Recall curves\n",
    "A precision recall curve is a rather interesting plot, especially in the context of imbalanced learning. As the name implies it plots precision on the y axis against recall on the x axis. Ideally we would like an AI to have both very high recall and precision performance, however, when this is not the case and especially in heavily imbalanced datasets it is recommended to use precision-recall curves rather than ROC curves that will generaly mis-interpret results due to imbalancing. "
   ]
  },
  {
   "cell_type": "code",
   "execution_count": 196,
   "id": "b9fd5c24",
   "metadata": {},
   "outputs": [
    {
     "data": {
      "image/png": "[encoded data removed]",
      "text/plain": [
       "<Figure size 432x288 with 1 Axes>"
      ]
     },
     "metadata": {
      "needs_background": "light"
     },
     "output_type": "display_data"
    }
   ],
   "source": [
    "display = PrecisionRecallDisplay.from_estimator(\n",
    "    clf, x_test, y_test, name=\"LinearSVC\")\n",
    "_ = display.ax_.set_title(\"2-class Precision-Recall curve\")"
   ]
  },
  {
   "cell_type": "markdown",
   "id": "90558c32",
   "metadata": {},
   "source": [
    "### Conclusions\n",
    "In this blueprint we have explored numerous metrics to use when evaluating regression and classification Artificial Intelligence. The blueprint is by no means thorough it however touches upon the mostly used metrics that will cover most of the AI use cases, however many more exist that may be more applicable as we move towards more edge cases. "
   ]
  },
  {
   "cell_type": "code",
   "execution_count": null,
   "id": "8090b483",
   "metadata": {},
   "outputs": [],
   "source": []
  }
 ],
 "metadata": {
  "kernelspec": {
   "display_name": "Python 3 (ipykernel)",
   "language": "python",
   "name": "python3"
  },
  "language_info": {
   "codemirror_mode": {
    "name": "ipython",
    "version": 3
   },
   "file_extension": ".py",
   "mimetype": "text/x-python",
   "name": "python",
   "nbconvert_exporter": "python",
   "pygments_lexer": "ipython3",
   "version": "3.7.11"
  }
 },
 "nbformat": 4,
 "nbformat_minor": 5
}
